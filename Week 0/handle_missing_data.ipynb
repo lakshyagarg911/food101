{
 "cells": [
  {
   "cell_type": "code",
   "id": "initial_id",
   "metadata": {
    "collapsed": true,
    "ExecuteTime": {
     "end_time": "2024-12-08T10:39:18.800589Z",
     "start_time": "2024-12-08T10:39:14.675708Z"
    }
   },
   "source": [
    "import pandas as pd\n",
    "import numpy as np\n",
    "from scipy.stats import gmean\n",
    "\n",
    "def replace_with_geometric_mean(column):\n",
    "    for i in range(len(column)):\n",
    "        if pd.isnull(column[i]):\n",
    "            above = column[i - 1] if i - 1 >= 0 else np.nan\n",
    "            below = column[i + 1] if i + 1 < len(column) else np.nan\n",
    "\n",
    "            # Consider valid neighbors only\n",
    "            neighbors = [x for x in [above, below] if not pd.isnull(x)]\n",
    "            if len(neighbors) > 0:\n",
    "                column[i] = gmean(neighbors)\n",
    "    return column"
   ],
   "outputs": [],
   "execution_count": 1
  },
  {
   "metadata": {},
   "cell_type": "code",
   "outputs": [],
   "execution_count": null,
   "source": [
    "file_path = \"IITK_Courses_Report.csv\"  # Change this to your local file path\n",
    "df = pd.read_csv(file_path)\n",
    "non_numerical_cols = df.select_dtypes(include='object').columns\n",
    "df = df.dropna(subset=non_numerical_cols)\n",
    "numerical_cols = df.select_dtypes(include=np.number).columns"
   ],
   "id": "5ee29e7b44a02f8f"
  },
  {
   "metadata": {},
   "cell_type": "code",
   "outputs": [],
   "execution_count": null,
   "source": [
    "for col in numerical_cols:\n",
    "    df[col] = replace_with_geometric_mean(df[col].values)\n",
    "\n",
    "cleaned_file_path = \"cleaned_IITK_Courses_Report.csv\"\n",
    "df.to_csv(cleaned_file_path, index=False)\n",
    "\n",
    "print(f\"Cleaned data saved to {cleaned_file_path}\")"
   ],
   "id": "19ccd0cd423ea541"
  }
 ],
 "metadata": {
  "kernelspec": {
   "display_name": "Python 3",
   "language": "python",
   "name": "python3"
  },
  "language_info": {
   "codemirror_mode": {
    "name": "ipython",
    "version": 2
   },
   "file_extension": ".py",
   "mimetype": "text/x-python",
   "name": "python",
   "nbconvert_exporter": "python",
   "pygments_lexer": "ipython2",
   "version": "2.7.6"
  }
 },
 "nbformat": 4,
 "nbformat_minor": 5
}
