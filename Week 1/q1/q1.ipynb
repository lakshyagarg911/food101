{
 "cells": [
  {
   "cell_type": "code",
   "id": "initial_id",
   "metadata": {
    "collapsed": true,
    "ExecuteTime": {
     "end_time": "2024-12-15T14:28:21.067828Z",
     "start_time": "2024-12-15T14:28:21.062747Z"
    }
   },
   "source": [
    "import cv2\n",
    "import numpy as np\n",
    "\n",
    "def show_image(image):\n",
    "    while True:\n",
    "        cv2.imshow('image', image)\n",
    "        if cv2.waitKey(0) & 0xFF == ord('q'):\n",
    "            break\n",
    "    cv2.destroyAllWindows()"
   ],
   "outputs": [],
   "execution_count": 22
  },
  {
   "metadata": {
    "ExecuteTime": {
     "end_time": "2024-12-15T14:28:22.699797Z",
     "start_time": "2024-12-15T14:28:21.565347Z"
    }
   },
   "cell_type": "code",
   "source": [
    "image = cv2.imread('image.jpg')\n",
    "show_image(image)"
   ],
   "id": "fcdf32eb22e68e05",
   "outputs": [],
   "execution_count": 23
  },
  {
   "metadata": {
    "ExecuteTime": {
     "end_time": "2024-12-15T14:35:53.799649Z",
     "start_time": "2024-12-15T14:35:53.792234Z"
    }
   },
   "cell_type": "code",
   "source": [
    "def apply_kernel(kernel, image):\n",
    "    new_image = np.zeros([image.shape[0] - kernel.shape[0], image.shape[1] - kernel.shape[1], 3], dtype=np.float32)\n",
    "    for i in range(new_image.shape[0]): # x coordinate\n",
    "        for j in range(new_image.shape[1]):  # y coordinate\n",
    "            for k in range(3): # channel\n",
    "                \n",
    "                mat1 = image[i:i+kernel.shape[0], j:j+kernel.shape[1], k]\n",
    "                for m in range(kernel.shape[0]):\n",
    "                    for n in range(kernel.shape[1]):\n",
    "                        \n",
    "                        new_image[i][j][k] += mat1[m][n] * kernel[m][n]\n",
    "    \n",
    "    new_image = np.array(new_image, np.uint8)\n",
    "    return new_image"
   ],
   "id": "4cdd5c401dd107c1",
   "outputs": [],
   "execution_count": 43
  },
  {
   "metadata": {
    "ExecuteTime": {
     "end_time": "2024-12-15T14:41:16.477320Z",
     "start_time": "2024-12-15T14:41:16.463747Z"
    }
   },
   "cell_type": "code",
   "source": [
    "blur_kernel = np.array([\n",
    "    [1/16,1/8,1/16], \n",
    "    [1/8, 1/4,1/8], \n",
    "    [1/16,1/8,1/16]]\n",
    ")\n",
    "\n",
    "sharpen_kernel = np.array([\n",
    "    [0, -1, 0], \n",
    "    [-1, 5,-1], \n",
    "    [0, -1, 0]]\n",
    ")\n",
    "\n",
    "edge_kernel = np.array([\n",
    "    [0, -1, 0], \n",
    "    [-1, 0, 1], \n",
    "    [0,  1, 0]\n",
    "])\n",
    "\n"
   ],
   "id": "b20bd997fa54ac04",
   "outputs": [],
   "execution_count": 48
  },
  {
   "metadata": {
    "ExecuteTime": {
     "end_time": "2024-12-15T14:43:15.644024Z",
     "start_time": "2024-12-15T14:42:44.489481Z"
    }
   },
   "cell_type": "code",
   "source": [
    "\"\"\"\n",
    "    comment and uncomment these lines\n",
    "\"\"\"\n",
    "# kernel = blur_kernel\n",
    "# kernel = sharpen_kernel\n",
    "kernel = edge_kernel\n",
    "\n",
    "\n",
    "convoluted_image = apply_kernel(kernel, image)\n",
    "show_image(convoluted_image)"
   ],
   "id": "f45ef27d7b8e4740",
   "outputs": [],
   "execution_count": 51
  },
  {
   "metadata": {},
   "cell_type": "code",
   "outputs": [],
   "execution_count": null,
   "source": "",
   "id": "efd201dfdb641c46"
  }
 ],
 "metadata": {
  "kernelspec": {
   "display_name": "Python 3",
   "language": "python",
   "name": "python3"
  },
  "language_info": {
   "codemirror_mode": {
    "name": "ipython",
    "version": 2
   },
   "file_extension": ".py",
   "mimetype": "text/x-python",
   "name": "python",
   "nbconvert_exporter": "python",
   "pygments_lexer": "ipython2",
   "version": "2.7.6"
  }
 },
 "nbformat": 4,
 "nbformat_minor": 5
}
